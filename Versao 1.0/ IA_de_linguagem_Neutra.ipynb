{
  "nbformat": 4,
  "nbformat_minor": 0,
  "metadata": {
    "colab": {
      "provenance": [],
      "authorship_tag": "ABX9TyNxL1v4OaOiLl4T1w+SkbUm",
      "include_colab_link": true
    },
    "kernelspec": {
      "name": "python3",
      "display_name": "Python 3"
    },
    "language_info": {
      "name": "python"
    }
  },
  "cells": [
    {
      "cell_type": "markdown",
      "metadata": {
        "id": "view-in-github",
        "colab_type": "text"
      },
      "source": [
        "<a href=\"https://colab.research.google.com/github/Giovanni-Ornellas/IA-de-Linguagem-Neutra/blob/develop/IA_de_linguagem_Neutra.ipynb\" target=\"_parent\"><img src=\"https://colab.research.google.com/assets/colab-badge.svg\" alt=\"Open In Colab\"/></a>"
      ]
    },
    {
      "cell_type": "markdown",
      "source": [
        "## 💾 Como Salvar este Notebook no GitHub\n",
        "\n",
        "Para manter o versionamento deste projeto e colaborar com a equipe, siga os passos abaixo para salvar este notebook diretamente no seu repositório GitHub:\n",
        "\n",
        "1. Vá até o menu superior e clique em **Arquivo > Salvar uma cópia no GitHub**.\n",
        "2. Escolha o repositório desejado e, se quiser, uma pasta específica.\n",
        "3. Escreva uma mensagem clara de commit, por exemplo: `\"Atualiza pré-processamento de texto para linguagem neutra\"`.\n",
        "4. Clique em **OK** para fazer o commit.\n",
        "\n",
        "**Sempre que fizer alterações importantes**, salve no GitHub para manter o histórico e facilitar o trabalho em equipe!\n",
        "\n",
        "> Este notebook deve ser versionado no repositório oficial:\n",
        "> https://github.com/Giovanni-Ornellas/IA-de-Linguagem-Neutra/tree/develop\n",
        "> Se não tiver acesso, solicite permissão.\n",
        "\n",
        "Sempre salve na branch develop até que esteja, pois a main só será usada para salvar versões estáveis do código!\n",
        "---\n"
      ],
      "metadata": {
        "id": "R5iyOID4LlLJ"
      }
    },
    {
      "cell_type": "markdown",
      "source": [
        "##  Primeira Versão - Substituição por Regras (Regex)\n",
        "\n",
        "Nesta primeira versão do projeto de linguagem neutra, implementaremos um sistema baseado em **expressões regulares (regex)** para transformar frases marcadas por gênero em versões neutras.\n",
        "\n",
        "###  Objetivo\n",
        "Criar um **MVP (Produto Mínimo Viável)** funcional, capaz de demonstrar a viabilidade da ideia de neutralização textual de forma simples, rápida e interpretável.\n",
        "\n",
        "---\n",
        "\n",
        "### Por que usar Regex primeiro?\n",
        "\n",
        "Utilizar regex como abordagem inicial oferece diversas vantagens no início do desenvolvimento:\n",
        "\n",
        "- ✅ **Rápida implementação**: poucas linhas de código já entregam resultados funcionais.\n",
        "- ✅ **Sem necessidade de treinamento de modelos**: não requer datasets extensos ou GPUs.\n",
        "- ✅ **Facilidade para testar regras linguísticas**: ideal para validar quais substituições fazem sentido.\n",
        "- ✅ **Alta interpretabilidade**: todas as transformações são visíveis e compreensíveis.\n",
        "- ✅ **Boa base para comparações futuras**: os resultados dessa versão servirão de referência para avaliar modelos baseados em IA.\n",
        "\n",
        "---\n",
        "\n",
        "### 🔄 Sobre a abordagem\n",
        "A substituição foi feita com base em um **dicionário de padrões regulares**, que cobre pronomes, possessivos, artigos, substantivos comuns e adjetivos marcados por gênero. A transformação busca sempre **preservar o sentido** da frase, enquanto neutraliza o gênero de forma respeitosa e coerente.\n",
        "\n",
        "Exemplo:\n",
        "\n"
      ],
      "metadata": {
        "id": "RLnJdvRYOXtT"
      }
    },
    {
      "cell_type": "code",
      "source": [
        "\"\"\"\n",
        "Dicionário de substituições para neutralização de gênero em texto.\n",
        "\n",
        "Cada entrada do dicionário utiliza uma expressão regular (regex) para identificar\n",
        "palavras ou padrões de linguagem marcados por gênero, substituindo-os por formas\n",
        "neutras. Este recurso será usado na função principal de transformação de texto\n",
        "como parte da primeira versão (MVP) do projeto de linguagem neutra.\n",
        "\"\"\"\n",
        "tradutor_neutro = {\n",
        "    # Pronomes pessoais\n",
        "    r\"\\bele(s)?\\b\": \"elu\",\n",
        "    r\"\\bela(s)?\\b\": \"elu\",\n",
        "\n",
        "    # Pronomes possessivos\n",
        "    r\"\\bdele(s)?\\b\": \"delu\",\n",
        "    r\"\\bdela(s)?\\b\": \"delu\",\n",
        "    r\"\\bseu(s)?\\b\": \"seu\",      # Ambíguo — manter neutro\n",
        "    r\"\\bsua(s)?\\b\": \"seu\",\n",
        "\n",
        "    # Artigos e determinantes\n",
        "    r\"\\bo(s)?\\b\": \"le\",\n",
        "    r\"\\ba(s)?\\b\": \"le\",\n",
        "    r\"\\bum(s)?\\b\": \"une\",\n",
        "    r\"\\buma(s)?\\b\": \"une\",\n",
        "\n",
        "    # Substantivos comuns\n",
        "    r\"\\baluno(s)?\\b\": \"estudante\",\n",
        "    r\"\\baluna(s)?\\b\": \"estudante\",\n",
        "    r\"\\bprofessor(es)?\\b\": \"docente\",\n",
        "    r\"\\bprofessora(s)?\\b\": \"docente\",\n",
        "    r\"\\bmenino(s)?\\b\": \"criança\",\n",
        "    r\"\\bmenina(s)?\\b\": \"criança\",\n",
        "    r\"\\bgaroto(s)?\\b\": \"jovem\",\n",
        "    r\"\\bgarota(s)?\\b\": \"jovem\",\n",
        "\n",
        "    # Adjetivos e outros marcadores\n",
        "    r\"\\btodos\\b\": \"todes\",\n",
        "    r\"\\btodas\\b\": \"todes\",\n",
        "    r\"\\bbem-vindo(s)?\\b\": \"bem-vinde\",\n",
        "    r\"\\bbem-vinda(s)?\\b\": \"bem-vinde\",\n",
        "    r\"\\bquerido(s)?\\b\": \"queride\",\n",
        "    r\"\\bquerida(s)?\\b\": \"queride\",\n",
        "    r\"\\bobrigado\\b\": \"obrigade\",\n",
        "    r\"\\bobrigada\\b\": \"obrigade\",\n",
        "\n",
        "    # Tratamentos formais\n",
        "    r\"\\bsenhor(es)?\\b\": \"pessoa\",\n",
        "    r\"\\bsenhora(s)?\\b\": \"pessoa\",\n",
        "    r\"\\bmoço(s)?\\b\": \"pessoa\",\n",
        "    r\"\\bmoça(s)?\\b\": \"pessoa\",\n",
        "}\n"
      ],
      "metadata": {
        "id": "7dBpk2CPL0Kn"
      },
      "execution_count": 4,
      "outputs": []
    },
    {
      "cell_type": "code",
      "source": [
        "import re\n",
        "\n",
        "def neutralizar_texto(texto, regras=tradutor_neutro):\n",
        "    \"\"\"\n",
        "    @brief Aplica regras de neutralização de gênero em um texto usando expressões regulares.\n",
        "\n",
        "    Esta função percorre um dicionário de padrões regex e substituições neutras,\n",
        "    e aplica cada uma delas ao texto fornecido. Serve como núcleo do sistema de\n",
        "    transformação linguística para linguagem neutra.\n",
        "\n",
        "    @param texto (str): Texto original com termos possivelmente marcados por gênero.\n",
        "    @param regras (dict): Dicionário de padrões regex e palavras neutras.\n",
        "\n",
        "    @return str: Texto com as palavras marcadas por gênero substituídas por formas neutras.\n",
        "    \"\"\"\n",
        "    for padrao, neutro in regras.items():\n",
        "        texto = re.sub(padrao, neutro, texto, flags=re.IGNORECASE)\n",
        "    return texto\n"
      ],
      "metadata": {
        "id": "pCNMKDf_PR51"
      },
      "execution_count": 8,
      "outputs": []
    },
    {
      "cell_type": "code",
      "source": [
        "exemplos_simples = [\n",
        "    \"A professora querida agradeceu a todos os alunos pela ajuda.\",\n",
        "    \"Ele e a menina chegaram juntos, bem-vindos à cerimônia.\",\n",
        "    \"Todos os garotos e todas as garotas estavam empolgados para a viagem.\",\n",
        "    \"Dela era a missão de orientar os alunos mais novos.\",\n",
        "    \"O senhor e a senhora participaram da reunião com o diretor.\",\n",
        "    \"A garota ajudou o menino a encontrar a professora.\",\n",
        "    \"Obrigado, querido aluno, pela sua atenção.\",\n",
        "    \"As moças e os rapazes se apresentaram ao professor com entusiasmo.\",\n",
        "    \"O aluno e a aluna entregaram os trabalhos ao mesmo tempo.\",\n",
        "    \"Ela disse que seu amigo e sua amiga não poderiam comparecer.\",\n",
        "]\n"
      ],
      "metadata": {
        "id": "TjlC7z10QGH4"
      },
      "execution_count": 9,
      "outputs": []
    },
    {
      "cell_type": "code",
      "source": [
        "for frase in exemplos_simples:\n",
        "    print(\"Original:\", frase)\n",
        "    print(\"Neutro  :\", neutralizar_texto(frase))\n",
        "    print()\n"
      ],
      "metadata": {
        "colab": {
          "base_uri": "https://localhost:8080/"
        },
        "id": "Qe1g1EPbQgO3",
        "outputId": "2f3072fc-0fa8-4e14-a17d-2aa3eed32b73"
      },
      "execution_count": 10,
      "outputs": [
        {
          "output_type": "stream",
          "name": "stdout",
          "text": [
            "Original: A professora querida agradeceu a todos os alunos pela ajuda.\n",
            "Neutro  : le docente queride agradeceu le todes le estudante pela ajuda.\n",
            "\n",
            "Original: Ele e a menina chegaram juntos, bem-vindos à cerimônia.\n",
            "Neutro  : elu e le criança chegaram juntos, bem-vinde à cerimônia.\n",
            "\n",
            "Original: Todos os garotos e todas as garotas estavam empolgados para a viagem.\n",
            "Neutro  : todes le jovem e todes le jovem estavam empolgados para le viagem.\n",
            "\n",
            "Original: Dela era a missão de orientar os alunos mais novos.\n",
            "Neutro  : delu era le missão de orientar le estudante mais novos.\n",
            "\n",
            "Original: O senhor e a senhora participaram da reunião com o diretor.\n",
            "Neutro  : le pessoa e le pessoa participaram da reunião com le diretor.\n",
            "\n",
            "Original: A garota ajudou o menino a encontrar a professora.\n",
            "Neutro  : le jovem ajudou le criança le encontrar le docente.\n",
            "\n",
            "Original: Obrigado, querido aluno, pela sua atenção.\n",
            "Neutro  : obrigade, queride estudante, pela seu atenção.\n",
            "\n",
            "Original: As moças e os rapazes se apresentaram ao professor com entusiasmo.\n",
            "Neutro  : le pessoa e le rapazes se apresentaram ao docente com entusiasmo.\n",
            "\n",
            "Original: O aluno e a aluna entregaram os trabalhos ao mesmo tempo.\n",
            "Neutro  : le estudante e le estudante entregaram le trabalhos ao mesmo tempo.\n",
            "\n",
            "Original: Ela disse que seu amigo e sua amiga não poderiam comparecer.\n",
            "Neutro  : elu disse que seu amigo e seu amiga não poderiam comparecer.\n",
            "\n"
          ]
        }
      ]
    }
  ]
}
